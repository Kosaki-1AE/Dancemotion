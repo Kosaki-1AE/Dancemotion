{
 "cells": [
  {
   "cell_type": "code",
   "execution_count": null,
   "id": "255bf9ca-db63-4e2d-82c1-5c0ee6b85fd2",
   "metadata": {},
   "outputs": [],
   "source": [
    "from qiskit import QuantumCircuit, Aer, transpile, assemble, execute\n",
    "from qiskit.visualization import plot_histogram\n",
    "import matplotlib.pyplot as plt\n",
    "\n",
    "# 1量子ビット + 1古典ビットの量子回路を作る\n",
    "qc = QuantumCircuit(1, 1)\n",
    "\n",
    "# ワイ理論的に \"未確定状態\" → \"確定状態\" を観測で再現\n",
    "qc.h(0)          # 未確定状態（重ね合わせ）にする\n",
    "qc.measure(0, 0) # 観測（確定）する\n",
    "\n",
    "# 回路を描画\n",
    "qc.draw(\"mpl\")\n",
    "plt.show()\n",
    "\n",
    "# シミュレータで実行\n",
    "simulator = Aer.get_backend('qasm_simulator')\n",
    "compiled_circuit = transpile(qc, simulator)\n",
    "qobj = assemble(compiled_circuit)\n",
    "result = simulator.run(qobj).result()\n",
    "\n",
    "# 結果をヒストグラム表示（0 or 1 のどちらかに確定する）\n",
    "counts = result.get_counts()\n",
    "plot_histogram(counts)\n",
    "plt.show()\n"
   ]
  }
 ],
 "metadata": {
  "kernelspec": {
   "display_name": "Python [conda env:base] *",
   "language": "python",
   "name": "conda-base-py"
  },
  "language_info": {
   "codemirror_mode": {
    "name": "ipython",
    "version": 3
   },
   "file_extension": ".py",
   "mimetype": "text/x-python",
   "name": "python",
   "nbconvert_exporter": "python",
   "pygments_lexer": "ipython3",
   "version": "3.13.5"
  }
 },
 "nbformat": 4,
 "nbformat_minor": 5
}
